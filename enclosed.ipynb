{
 "cells": [
  {
   "cell_type": "code",
   "execution_count": null,
   "id": "f06607c9-bce8-474a-94d4-9284adf955b1",
   "metadata": {
    "scrolled": true
   },
   "outputs": [
    {
     "name": "stdout",
     "output_type": "stream",
     "text": [
      "\n",
      "Found 11 self-enclosing sidewalk ways: [813002121, 865682134, 866673781, 877372924, 882696407, 892395428, 892395429, 893099586, 893389756, 917499891, 917499892]\n"
     ]
    }
   ],
   "source": [
    "import requests\n",
    "from time import sleep\n",
    "\n",
    "def fetch_sidewalks_and_nodes(bbox):\n",
    "    overpass_url = \"http://overpass-api.de/api/interpreter\"\n",
    "    \n",
    "    # Overpass query to fetch sidewalks and all their referenced nodes\n",
    "    #  (>;) recurses down to get all nodes referenced by the ways\n",
    "    overpass_query = f\"\"\"\n",
    "    [out:json];\n",
    "    (\n",
    "      way[\"highway\"=\"footway\"][\"footway\"~\"sidewalk|crossing\"]({bbox});\n",
    "    );\n",
    "    out body;\n",
    "    >;\n",
    "    out body;\n",
    "    \"\"\"\n",
    "\n",
    "    \n",
    "    # Send the request to the Overpass API\n",
    "    response = requests.get(overpass_url, params={'data': overpass_query})\n",
    "    \n",
    "    if response.status_code == 200:\n",
    "        return response.json()\n",
    "    else:\n",
    "        print(response)\n",
    "        print(\"Error fetching data from Overpass API\")\n",
    "        return None\n",
    "\n",
    "def is_self_enclosing(nodes):\n",
    "    if not nodes or len(nodes) < 3:  # Need at least 3 nodes for a closed way\n",
    "        return False\n",
    "    # Get the coordinates of the first and last node\n",
    "    first_node = nodes[0]\n",
    "    last_node = nodes[-1]\n",
    "    \n",
    "    # Check if the first and last node coordinates are the same\n",
    "    return first_node['lat'] == last_node['lat'] and first_node['lon'] == last_node['lon']\n",
    "\n",
    "def process_sidewalks(bbox):\n",
    "    data = fetch_sidewalks_and_nodes(bbox)\n",
    "    \n",
    "    if not data:\n",
    "        return []\n",
    "    \n",
    "    # Create a dictionary to store node details by ID for quick lookup\n",
    "    nodes_dict = {}\n",
    "    ways_list = []\n",
    "    \n",
    "    # Process all elements from the response\n",
    "    for element in data['elements']:\n",
    "        if element['type'] == 'node':\n",
    "            # Store node details\n",
    "            nodes_dict[element['id']] = {\n",
    "                'lat': element['lat'],\n",
    "                'lon': element['lon']\n",
    "            }\n",
    "        elif element['type'] == 'way':\n",
    "            # Store way for later processing\n",
    "            ways_list.append(element)\n",
    "    \n",
    "    # Process ways and check if they are self-enclosing\n",
    "    closed_ways = []\n",
    "    for way in ways_list:\n",
    "        node_ids = way['nodes']\n",
    "        node_details = []\n",
    "        for node_id in node_ids:\n",
    "            if node_id in nodes_dict:\n",
    "                node_details.append(nodes_dict[node_id])\n",
    "            else:\n",
    "                print(f\"Warning: Node ID {node_id} not found in fetched nodes\")\n",
    "        \n",
    "        # Check if the way is self-enclosing\n",
    "        if is_self_enclosing(node_details):\n",
    "            closed_ways.append(way['id'])\n",
    "    \n",
    "    return closed_ways\n",
    "\n",
    "# Usage\n",
    "# bbox = \"40.607619,-74.081014,40.61053,-74.0752\"\n",
    "bbox = \"40.749,-73.835,40.775,-73.795\"  \n",
    "closed_sidewalk_ways = process_sidewalks(bbox)\n",
    "print(f\"\\nFound {len(closed_sidewalk_ways)} self-enclosing sidewalk ways: {closed_sidewalk_ways}\")"
   ]
  },
  {
   "cell_type": "code",
   "execution_count": 44,
   "id": "d2a94e24-91a5-412f-beb9-942e2f84d8e7",
   "metadata": {},
   "outputs": [
    {
     "name": "stdout",
     "output_type": "stream",
     "text": [
      "https://www.openstreetmap.org/way/813002121\n",
      "https://www.openstreetmap.org/way/865682134\n",
      "https://www.openstreetmap.org/way/866673781\n",
      "https://www.openstreetmap.org/way/877372924\n",
      "https://www.openstreetmap.org/way/882696407\n",
      "https://www.openstreetmap.org/way/892395428\n",
      "https://www.openstreetmap.org/way/892395429\n",
      "https://www.openstreetmap.org/way/893099586\n",
      "https://www.openstreetmap.org/way/893389756\n",
      "https://www.openstreetmap.org/way/917499891\n",
      "https://www.openstreetmap.org/way/917499892\n"
     ]
    }
   ],
   "source": [
    "for way in closed_sidewalk_ways:\n",
    "    print(f'https://www.openstreetmap.org/way/{way}')"
   ]
  },
  {
   "cell_type": "code",
   "execution_count": null,
   "id": "af1a47bc-b65c-47ff-a359-174b9b3a1d87",
   "metadata": {},
   "outputs": [],
   "source": []
  }
 ],
 "metadata": {
  "kernelspec": {
   "display_name": "Python 3 (ipykernel)",
   "language": "python",
   "name": "python3"
  },
  "language_info": {
   "codemirror_mode": {
    "name": "ipython",
    "version": 3
   },
   "file_extension": ".py",
   "mimetype": "text/x-python",
   "name": "python",
   "nbconvert_exporter": "python",
   "pygments_lexer": "ipython3",
   "version": "3.13.5"
  }
 },
 "nbformat": 4,
 "nbformat_minor": 5
}
